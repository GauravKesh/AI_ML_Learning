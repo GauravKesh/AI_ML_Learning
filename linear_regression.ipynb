{
  "nbformat": 4,
  "nbformat_minor": 0,
  "metadata": {
    "colab": {
      "provenance": [],
      "authorship_tag": "ABX9TyOh4CwDNcPVgmalD2Y+1MC5",
      "include_colab_link": true
    },
    "kernelspec": {
      "name": "python3",
      "display_name": "Python 3"
    },
    "language_info": {
      "name": "python"
    }
  },
  "cells": [
    {
      "cell_type": "markdown",
      "metadata": {
        "id": "view-in-github",
        "colab_type": "text"
      },
      "source": [
        "<a href=\"https://colab.research.google.com/github/GauravKesh/AI_ML_Learning/blob/collab/linear_regression.ipynb\" target=\"_parent\"><img src=\"https://colab.research.google.com/assets/colab-badge.svg\" alt=\"Open In Colab\"/></a>"
      ]
    },
    {
      "cell_type": "code",
      "source": [
        "import numpy as np\n",
        "import pandas as pd\n",
        "import matplotlib.pyplot as plt\n",
        "import seaborn as sns"
      ],
      "metadata": {
        "id": "nLFB_NVk2d7R"
      },
      "execution_count": null,
      "outputs": []
    },
    {
      "cell_type": "code",
      "execution_count": null,
      "metadata": {
        "id": "F6h-y1O5tdi2",
        "collapsed": true
      },
      "outputs": [],
      "source": [
        "\n",
        "df = pd.read_csv('/content/advertising.csv')\n",
        "print(df.head())\n",
        "df.isnull().sum()\n",
        "\n"
      ]
    },
    {
      "cell_type": "code",
      "source": [
        "sns.pairplot(df,x_vars=['TV','Radio','Newspaper'],y_vars='Sales',height=4, aspect=1, kind='scatter')\n",
        "plt.show()\n",
        "# plt.scatter(df['TV'],df['Sales'])\n",
        "# plt.scatter(df['Radio'],df['Sales'])\n",
        "# plt.scatter(df['Newspaper'],df['Sales'])\n",
        "plt.tight_layout()\n"
      ],
      "metadata": {
        "id": "RgyH_PRxzVJR"
      },
      "execution_count": null,
      "outputs": []
    },
    {
      "cell_type": "code",
      "source": [
        "\n",
        "fig,axs = plt.subplots(3,figsize= (5,5))\n",
        "plt1 = sns.boxplot(df['TV'],ax = axs[0])\n",
        "plt2 = sns.boxplot(df['Radio'],ax = axs[1])\n",
        "plt3 = sns.boxplot(df['Newspaper'],ax = axs[2])\n",
        "plt.show()"
      ],
      "metadata": {
        "id": "OltArVZw1vuP"
      },
      "execution_count": null,
      "outputs": []
    },
    {
      "cell_type": "code",
      "source": [
        "x = df['TV']\n",
        "y = df['Sales']\n",
        "plt.scatter(x,y,color=\"red\",label='scatter plot')\n",
        "plt.title('Relationship between TV and Sales')\n"
      ],
      "metadata": {
        "id": "Qxd0lKfE30-q"
      },
      "execution_count": null,
      "outputs": []
    },
    {
      "cell_type": "code",
      "source": [
        "#dimension of x and y\n",
        "print(x.shape)\n",
        "print(y.shape)"
      ],
      "metadata": {
        "id": "whuafGz14JKK"
      },
      "execution_count": null,
      "outputs": []
    },
    {
      "cell_type": "code",
      "source": [
        "X= np.array(x)\n",
        "Y = np.array(y)\n",
        "print(X.shape)\n",
        "print(Y.shape)"
      ],
      "metadata": {
        "id": "-ilAHj315-tK"
      },
      "execution_count": null,
      "outputs": []
    },
    {
      "cell_type": "code",
      "source": [
        "a = X.reshape(-1,1)\n",
        "b =Y.reshape(-1,1)\n",
        "print(a.shape)\n",
        "print(b.shape)\n"
      ],
      "metadata": {
        "id": "lgtDpwnK6ncg"
      },
      "execution_count": null,
      "outputs": []
    },
    {
      "cell_type": "code",
      "source": [
        "from sklearn.model_selection import train_test_split\n",
        "x_train,X_test,y_train,y_test = train_test_split(X,Y,test_size=0.30)\n",
        "x_train.shape,X_test.shape,y_train.shape,y_test.shape"
      ],
      "metadata": {
        "id": "ncHFbH8D8gD3"
      },
      "execution_count": null,
      "outputs": []
    },
    {
      "cell_type": "code",
      "source": [
        "from sklearn.linear_model import LinearRegression\n",
        "lm = LinearRegression()\n",
        "# Train the model using trainng data sets\n",
        "lm.fit(x_train,y_train)\n",
        "#predict on the test data\n",
        "y_pred = lm.predict(X_test)\n",
        "y_pred"
      ],
      "metadata": {
        "id": "0iMDLCtP-Hxa"
      },
      "execution_count": null,
      "outputs": []
    }
  ]
}